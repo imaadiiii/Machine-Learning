{
  "nbformat": 4,
  "nbformat_minor": 0,
  "metadata": {
    "colab": {
      "provenance": []
    },
    "kernelspec": {
      "name": "python3",
      "display_name": "Python 3"
    },
    "language_info": {
      "name": "python"
    }
  },
  "cells": [
    {
      "cell_type": "markdown",
      "source": [
        "Probability distribution function - when continuous random variable is there that is denoted by probability density function\n",
        "\n",
        "p= area under the curve\n",
        "\n",
        "Probability mass function - when variable is discrete random variable.\n",
        "\n",
        "Cumulative distribution function - here we use gradient"
      ],
      "metadata": {
        "id": "p_Hif5tpDog-"
      }
    },
    {
      "cell_type": "markdown",
      "source": [
        "PMF- e.g rolling a dice\n",
        "\n",
        "PDF- e.g. height of students\n",
        "\n",
        "probability density - gradient of cumulative curve"
      ],
      "metadata": {
        "id": "DRO03Ua1Doh5"
      }
    },
    {
      "cell_type": "markdown",
      "source": [
        "types of probability distribution -\n",
        "\n",
        "1. Normal/gaussian distribution(PDF)\n",
        "2. Bernaulli Distribution (PMF)\n",
        "3. Uniform Distribution(PMF)\n",
        "4. Poisson Distribution(PMF)\n",
        "5. Log Normal Distribution(PDF)\n",
        "6. Binomial Distribution(PMF)"
      ],
      "metadata": {
        "id": "cbpDtgpADokI"
      }
    },
    {
      "cell_type": "markdown",
      "source": [
        "Bernaulli Distribution- Discrete Random Variable\n",
        "\n",
        "outcomes are binary\n",
        "\n",
        "PMF = q=1-p   if k=0\n",
        "\n",
        "      p       if k =1\n",
        "\n",
        "Mean of Bernaulli Distribution -\n",
        "\n",
        "= P.\n",
        "\n",
        "Median of Bernaulli Distribution -\n",
        "\n",
        "= 0.  if p<1/2\n",
        "\n",
        "=[0,1]  if p=1/2\n",
        "\n",
        "=1.  p>1/2\n",
        "\n",
        "variance = p*(1-p)\n",
        "=pq\n",
        "\n",
        "std = rt pq"
      ],
      "metadata": {
        "id": "Mg5WELlbDome"
      }
    },
    {
      "cell_type": "markdown",
      "source": [
        "Binomial Distribution - every experiment outcome is binary and these experiment is performed for n trials\n",
        "\n",
        "notation = B(n,p)\n",
        "\n",
        "parameter = n()\n",
        "\n",
        "p[0,1]\n",
        "\n",
        "q=1-p\n",
        "\n",
        "support = number of success\n",
        "\n",
        "pmf= nCk\n",
        "\n",
        "mean = np\n",
        "\n",
        "var = npq\n",
        "\n",
        "std= root npq"
      ],
      "metadata": {
        "id": "d5PwDi9eDopE"
      }
    },
    {
      "cell_type": "markdown",
      "source": [
        "Poisson Distribution - Discrete Random variable (PMF)\n",
        "Discrete the number if events occuring in a fixed time interval"
      ],
      "metadata": {
        "id": "oEJUVRGYDorc"
      }
    },
    {
      "cell_type": "markdown",
      "source": [
        "Normal Distribution - Bell curve - Mean = Median = Mode when symmetric\n",
        "\n",
        "notation(mean,var)\n",
        "\n",
        "type of continuous probability distribution for a real valued random variable"
      ],
      "metadata": {
        "id": "M_G8wNQnDot4"
      }
    },
    {
      "cell_type": "markdown",
      "source": [
        "emperical rule of normal distribution\n",
        "\n",
        "P(mean-variance <= x<= mean +variance) approx equal to 68%\n",
        "\n",
        "P(mean-2*variance <= x<= mean +2*variance) approx equal to 95%\n",
        "\n",
        "P(mean-3*variance <= x<= mean +3*variance) approx equal to 99.7%\n",
        "\n",
        "example weight of student in class\n",
        "iris dataset"
      ],
      "metadata": {
        "id": "TyAF6vCVDowE"
      }
    },
    {
      "cell_type": "markdown",
      "source": [
        "uniform distribution -\n",
        "\n",
        "1. continuous uniform distribution - U(a,b) parameter= -infinity <a<b<+infinity\n",
        "\n",
        "e.g number of candies sold daily at a shop is uniformly distributed with a maximum of 40 and a minimum of 10\n",
        "\n",
        "probability of daily sales to fall between 15 and 30\n",
        "\n",
        "2. discrete uniform distribution"
      ],
      "metadata": {
        "id": "GuwgF9zDDoyb"
      }
    },
    {
      "cell_type": "markdown",
      "source": [
        "Z-stat - By z-SCORE we can convert normal distribution to std. normal dist.\n",
        "\n",
        "with z-score we can find how much it is away from mean\n",
        "\n",
        "to find area under the curve we will find z-score first then by z-table can find the area under the curve"
      ],
      "metadata": {
        "id": "ivVzsyonDo11"
      }
    },
    {
      "cell_type": "markdown",
      "source": [
        "Central Limit Theorem - if we have population data which is normally distributed and we do sampling distribution of that and calculate their mean and if we plot that mean. it will be normally distributed.\n",
        "\n",
        "if we take non gaussian also thenn it is possible"
      ],
      "metadata": {
        "id": "wbBezC7EDo9W"
      }
    },
    {
      "cell_type": "markdown",
      "source": [
        "in sampling distribution mean will be equal to population mean and st. deviation will be equal to std. deviation/root n.\n",
        "\n",
        "n can be any value"
      ],
      "metadata": {
        "id": "NAMEPvvCDo_7"
      }
    },
    {
      "cell_type": "markdown",
      "source": [
        "estimate - it is an observed numerical value used to estimate an unknown population paramter\n",
        "\n",
        "point estimate - single numerical value\n",
        "\n",
        "interval estimate - range of values used to estimate the unknown population parameters"
      ],
      "metadata": {
        "id": "Lvv_824JDpCS"
      }
    },
    {
      "cell_type": "markdown",
      "source": [
        "for conclusion we do hypothesis testing\n",
        "\n",
        "null hypothesis - the assumption we are beginning with\n",
        "\n",
        "alternate hypothesis- opposite of null hypothesis"
      ],
      "metadata": {
        "id": "30lP73uVDpFJ"
      }
    },
    {
      "cell_type": "markdown",
      "source": [
        "p value is a number that describes how likely you are to have found a particular set of observations if the null hypothesis were true. P value are used in hypothesis testing to help decide whether to reject the null hypothesis"
      ],
      "metadata": {
        "id": "xLBhL8a3DpHi"
      }
    }
  ]
}