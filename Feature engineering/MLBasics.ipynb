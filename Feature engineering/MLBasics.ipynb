{
  "nbformat": 4,
  "nbformat_minor": 0,
  "metadata": {
    "colab": {
      "provenance": []
    },
    "kernelspec": {
      "name": "python3",
      "display_name": "Python 3"
    },
    "language_info": {
      "name": "python"
    }
  },
  "cells": [
    {
      "cell_type": "markdown",
      "source": [
        "AI- Smart Application that can perform its own task without any human intervention e.g self driving car,robots\n",
        "\n",
        "ML- subset of AI - it provides stats tool to analyze, visualize, predictive module forecasting e.g amazon,netflix- recommendation system\n",
        "\n",
        "DL- subset of ML - Mimic the human Brain use multilayer nueral network e.g. image recodnition, object detection, chatbots\n",
        "\n",
        "Data Scientist - using all the concept AI,ML,DL"
      ],
      "metadata": {
        "id": "9Ipm6g9WdqHq"
      }
    },
    {
      "cell_type": "markdown",
      "source": [
        "Type of ML\n",
        "\n",
        "Supervised ML\n",
        "\n",
        "Unsupervised ml\n",
        "\n",
        "Semisupervised\n",
        "\n",
        "Reinforcement learning\n",
        "\n",
        "Supervised - classification and regression\n",
        "\n",
        "Output feature of the dataset\n",
        "\n",
        " Classification - we will train a dataset on some features and give one output here output feature is categories\n",
        "\n",
        " Regression - here output feature is continuous value\n",
        "\n",
        "\n",
        "Unsupervised - no o/p , clusters, group of similar item e.g customer segmentation.\n",
        "\n",
        "Semi supervised - combination of supervised and unsupervised.\n",
        "\n",
        "Reinforcement learning e.g child who is born"
      ],
      "metadata": {
        "id": "V9zRbNn5dtKN"
      }
    },
    {
      "cell_type": "markdown",
      "source": [
        "DATASET - divided in 3 type -\n",
        "\n",
        "train -  we train our model\n",
        "\n",
        "test - hyper tuning of the model\n",
        "\n",
        "test - model will be test\n",
        "\n",
        "e.g when we think about exam  book is train dataset, validation is different books, exam test paper is test data"
      ],
      "metadata": {
        "id": "n8dYGJeodtHn"
      }
    },
    {
      "cell_type": "markdown",
      "source": [
        "Model performance - accuracy should be high.\n",
        "\n",
        "when train accuracy is high and accuracy on test is low so here we call it as overfitting\n",
        "\n",
        "when train accuracy is low and accuracy on test is low so here we call it as underfitting\n",
        "\n",
        "generalized model- train high and test accuracy is also high"
      ],
      "metadata": {
        "id": "aw3X228EdtFO"
      }
    },
    {
      "cell_type": "markdown",
      "source": [
        "when overfitting - low bias(train) and high variance(test)\n",
        "\n",
        "when underfitting - high bias(train) and high variance (test)\n",
        "\n",
        "generalized model - low bias and low variance"
      ],
      "metadata": {
        "id": "PQyXWNVddtCF"
      }
    }
  ]
}